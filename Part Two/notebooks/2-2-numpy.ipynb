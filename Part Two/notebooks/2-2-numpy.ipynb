{
 "cells": [
  {
   "cell_type": "markdown",
   "metadata": {},
   "source": [
    "**Learning Python -- The Programming Language for Artificial Intelligence and Data Science**\n",
    "\n",
    "**Lecture: NumPy - Numerical Computing in Python**\n",
    "\n",
    "**By Allen Y. Yang, PhD**\n",
    "\n",
    "(c) Copyright Intelligent Racing Inc., 2020-2024. All rights reserved. Materials may NOT be distributed or used for any commercial purposes.\n",
    "\n",
    "NumPy (Numerical Python) is the fundamental package for scientific computing in Python. It provides a high-performance multidimensional array object and tools for working with these arrays. If you're going to do data science or machine learning in Python, NumPy is an essential library to master. This lecture will introduce you to NumPy's core concepts, from basic array operations to advanced matrix computations."
   ]
  },
  {
   "cell_type": "markdown",
   "metadata": {},
   "source": [
    "# Keywords\n",
    "\n",
    "* **NumPy**: A Python library for numerical computing that provides support for large, multi-dimensional arrays and matrices.\n",
    "* **ndarray**: The main NumPy data structure - an N-dimensional array object.\n",
    "* **BLAS**: Basic Linear Algebra Subprograms - low-level routines for performing common linear algebra operations.\n",
    "* **Vectorization**: Performing operations on entire arrays at once rather than using explicit loops.\n",
    "* **Broadcasting**: NumPy's ability to perform operations on arrays of different shapes.\n",
    "* **Tensor**: An array with more than two dimensions (generalization of matrices).\n",
    "* **Dot Product**: A mathematical operation that takes two vectors and returns a scalar.\n",
    "* **FLOPS**: Floating-point operations per second - a measure of computer performance."
   ]
  },
  {
   "cell_type": "markdown",
   "metadata": {},
   "source": [
    "# Brief History of Scientific Computing\n",
    "\n",
    "## Supercomputers and Scientific Computing\n",
    "\n",
    "Scientific computing has a rich history dating back to the 1960s:\n",
    "\n",
    "- **1964**: Seymour Cray designed the CDC6600, the first supercomputer\n",
    "  - Cost: $8 million\n",
    "  - Had dedicated refrigeration cooling\n",
    "  - 10x more powerful than contemporary computers\n",
    "\n",
    "- **top500.org**: World supercomputer rankings\n",
    "  - Rankings released biannually since 1993\n",
    "  - Measured in FLOPS (floating-point operations per second)\n",
    "  - Currently all top-500 use Linux, 95% use Intel x86-64 architecture\n",
    "  - 2020: HP Enterprise announced Cray El Capitan - 2 exaflops (2 billion billion FLOPS)\n",
    "\n",
    "## Foundation Libraries\n",
    "\n",
    "- **BLAS (Basic Linear Algebra Subprograms)**: First released in 1979\n",
    "  - Level-1: Vector operations\n",
    "  - Level-2: Matrix-vector operations\n",
    "  - Level-3: Matrix-matrix operations\n",
    "  - Provides FORTRAN and C APIs, interfaces with Python through NumPy\n",
    "\n",
    "- **LINPACK/LAPACK**: Numerical algorithms for solving linear algebra problems\n",
    "  - LAPACK is a superset of LINPACK\n",
    "  - Optimized for modern computer cache hierarchies\n",
    "\n",
    "- **MATLAB**: Most popular scientific computing software before Python\n",
    "  - Since 1980, provided an interpreter for LINPACK/LAPACK\n",
    "  - Powerful visualization toolboxes"
   ]
  },
  {
   "cell_type": "markdown",
   "metadata": {},
   "source": [
    "# Installing and Importing NumPy\n",
    "\n",
    "Before we begin, let's install and import NumPy:"
   ]
  },
  {
   "cell_type": "code",
   "execution_count": 1,
   "metadata": {},
   "outputs": [
    {
     "name": "stdout",
     "output_type": "stream",
     "text": [
      "NumPy version: 2.1.3\n"
     ]
    }
   ],
   "source": [
    "# Install NumPy if not already installed\n",
    "# Uncomment the line below if you need to install\n",
    "# !pip install numpy matplotlib pillow\n",
    "\n",
    "# Import NumPy with standard alias\n",
    "import numpy as np\n",
    "\n",
    "# Check NumPy version\n",
    "print(f\"NumPy version: {np.__version__}\")"
   ]
  },
  {
   "cell_type": "markdown",
   "metadata": {},
   "source": [
    "# NumPy Array Types\n",
    "\n",
    "The core of NumPy is the `ndarray` (N-dimensional array) object. Let's explore different types of arrays:"
   ]
  },
  {
   "cell_type": "markdown",
   "metadata": {},
   "source": [
    "## 0-D and 1-D Arrays"
   ]
  },
  {
   "cell_type": "code",
   "execution_count": 2,
   "metadata": {},
   "outputs": [
    {
     "name": "stdout",
     "output_type": "stream",
     "text": [
      "0-D array: 42\n",
      "Shape: ()\n",
      "Dimensions: 0\n",
      "\n",
      "========================================\n",
      "\n",
      "1-D array: [1 2 3]\n",
      "Shape: (3,)\n",
      "Dimensions: 1\n",
      "Type: <class 'numpy.ndarray'>\n"
     ]
    }
   ],
   "source": [
    "# 0-D array (scalar)\n",
    "scalar = np.array(42)\n",
    "print(f\"0-D array: {scalar}\")\n",
    "print(f\"Shape: {scalar.shape}\")\n",
    "print(f\"Dimensions: {scalar.ndim}\")\n",
    "\n",
    "print(\"\\n\" + \"=\"*40 + \"\\n\")\n",
    "\n",
    "# 1-D array (vector)\n",
    "vector = np.array([1, 2, 3])\n",
    "print(f\"1-D array: {vector}\")\n",
    "print(f\"Shape: {vector.shape}\")\n",
    "print(f\"Dimensions: {vector.ndim}\")\n",
    "print(f\"Type: {type(vector)}\")"
   ]
  },
  {
   "cell_type": "markdown",
   "metadata": {},
   "source": [
    "## 2-D Arrays (Matrices)"
   ]
  },
  {
   "cell_type": "code",
   "execution_count": 3,
   "metadata": {},
   "outputs": [
    {
     "name": "stdout",
     "output_type": "stream",
     "text": [
      "2-D array (matrix):\n",
      "[[1 2 3]\n",
      " [4 5 6]]\n",
      "Shape: (2, 3)\n",
      "Dimensions: 2\n",
      "\n",
      "Element at row 0, column 0: 1\n",
      "First row: [1 2 3]\n",
      "Second column: [2 5]\n"
     ]
    }
   ],
   "source": [
    "# 2-D array (matrix)\n",
    "matrix = np.array([[1, 2, 3], \n",
    "                   [4, 5, 6]])\n",
    "print(\"2-D array (matrix):\")\n",
    "print(matrix)\n",
    "print(f\"Shape: {matrix.shape}\")\n",
    "print(f\"Dimensions: {matrix.ndim}\")\n",
    "\n",
    "# Accessing elements\n",
    "print(f\"\\nElement at row 0, column 0: {matrix[0, 0]}\")\n",
    "print(f\"First row: {matrix[0]}\")\n",
    "print(f\"Second column: {matrix[:, 1]}\")"
   ]
  },
  {
   "cell_type": "markdown",
   "metadata": {},
   "source": [
    "## 3-D Arrays (Tensors)"
   ]
  },
  {
   "cell_type": "code",
   "execution_count": 4,
   "metadata": {},
   "outputs": [
    {
     "name": "stdout",
     "output_type": "stream",
     "text": [
      "3-D array (tensor):\n",
      "[[[255   0   0]\n",
      "  [  0 255   0]]\n",
      "\n",
      " [[  0   0 255]\n",
      "  [255 255   0]]]\n",
      "Shape: (2, 2, 3)\n",
      "Dimensions: 3\n",
      "\n",
      "Pixel at position (0,0): RGB = [255   0   0]\n"
     ]
    }
   ],
   "source": [
    "# 3-D array (tensor) - like an RGB image\n",
    "# Shape: (height, width, channels)\n",
    "tensor = np.array([[[255, 0, 0],    # Red pixel\n",
    "                    [0, 255, 0]],   # Green pixel\n",
    "                   [[0, 0, 255],    # Blue pixel\n",
    "                    [255, 255, 0]]]) # Yellow pixel\n",
    "\n",
    "print(\"3-D array (tensor):\")\n",
    "print(tensor)\n",
    "print(f\"Shape: {tensor.shape}\")\n",
    "print(f\"Dimensions: {tensor.ndim}\")\n",
    "print(f\"\\nPixel at position (0,0): RGB = {tensor[0, 0]}\")"
   ]
  },
  {
   "cell_type": "markdown",
   "metadata": {},
   "source": [
    "## Vectors: Special Cases of 2-D Arrays\n",
    "\n",
    "In NumPy, vectors are typically represented as either row vectors or column vectors:"
   ]
  },
  {
   "cell_type": "code",
   "execution_count": 5,
   "metadata": {},
   "outputs": [
    {
     "name": "stdout",
     "output_type": "stream",
     "text": [
      "Row vector:\n",
      "[[1 2 3]]\n",
      "Shape: (1, 3)\n",
      "\n",
      "========================================\n",
      "\n",
      "Column vector:\n",
      "[[1]\n",
      " [2]\n",
      " [3]]\n",
      "Shape: (3, 1)\n"
     ]
    }
   ],
   "source": [
    "# Row vector (1 x 3)\n",
    "row_vector = np.array([[1, 2, 3]])\n",
    "print(\"Row vector:\")\n",
    "print(row_vector)\n",
    "print(f\"Shape: {row_vector.shape}\")\n",
    "\n",
    "print(\"\\n\" + \"=\"*40 + \"\\n\")\n",
    "\n",
    "# Column vector (3 x 1)\n",
    "col_vector = np.array([[1], [2], [3]])\n",
    "print(\"Column vector:\")\n",
    "print(col_vector)\n",
    "print(f\"Shape: {col_vector.shape}\")"
   ]
  },
  {
   "cell_type": "markdown",
   "metadata": {},
   "source": [
    "# Creating Special Arrays\n",
    "\n",
    "NumPy provides convenient functions to create commonly used arrays:"
   ]
  },
  {
   "cell_type": "code",
   "execution_count": 6,
   "metadata": {},
   "outputs": [
    {
     "name": "stdout",
     "output_type": "stream",
     "text": [
      "1-D array of ones:\n",
      "[1. 1. 1. 1. 1.]\n",
      "Data type: float64\n",
      "\n",
      "2-D array of ones:\n",
      "[[1. 1. 1. 1.]\n",
      " [1. 1. 1. 1.]\n",
      " [1. 1. 1. 1.]]\n"
     ]
    }
   ],
   "source": [
    "# Arrays of ones\n",
    "ones_1d = np.ones(5)\n",
    "ones_2d = np.ones((3, 4))\n",
    "print(\"1-D array of ones:\")\n",
    "print(ones_1d)\n",
    "print(f\"Data type: {ones_1d.dtype}\\n\")  # Note: default is float64\n",
    "\n",
    "print(\"2-D array of ones:\")\n",
    "print(ones_2d)"
   ]
  },
  {
   "cell_type": "code",
   "execution_count": 7,
   "metadata": {},
   "outputs": [
    {
     "name": "stdout",
     "output_type": "stream",
     "text": [
      "Array of zeros:\n",
      "[[0. 0. 0.]\n",
      " [0. 0. 0.]]\n",
      "\n",
      "Array of fives:\n",
      "[[5 5]\n",
      " [5 5]]\n",
      "\n",
      "3x3 Identity matrix:\n",
      "[[1. 0. 0.]\n",
      " [0. 1. 0.]\n",
      " [0. 0. 1.]]\n",
      "\n",
      "Empty array (uninitialized): [1. 1. 1.]\n"
     ]
    }
   ],
   "source": [
    "# Arrays of zeros\n",
    "zeros = np.zeros((2, 3))\n",
    "print(\"Array of zeros:\")\n",
    "print(zeros)\n",
    "\n",
    "# Arrays filled with a specific value\n",
    "fives = np.full((2, 2), 5)\n",
    "print(\"\\nArray of fives:\")\n",
    "print(fives)\n",
    "\n",
    "# Identity matrix (diagonal ones)\n",
    "identity = np.eye(3)\n",
    "print(\"\\n3x3 Identity matrix:\")\n",
    "print(identity)\n",
    "\n",
    "# Empty array (uninitialized - contains random values)\n",
    "empty = np.empty(3)\n",
    "print(f\"\\nEmpty array (uninitialized): {empty}\")"
   ]
  },
  {
   "cell_type": "markdown",
   "metadata": {},
   "source": [
    "# Array Indexing and Slicing\n",
    "\n",
    "NumPy provides powerful indexing capabilities that go beyond Python lists:"
   ]
  },
  {
   "cell_type": "code",
   "execution_count": 8,
   "metadata": {},
   "outputs": [
    {
     "name": "stdout",
     "output_type": "stream",
     "text": [
      "Original 1-D array: [0 1 2 3 4 5 6 7 8]\n",
      "\n",
      "Reshaped to 3x3:\n",
      "[[0 1 2]\n",
      " [3 4 5]\n",
      " [6 7 8]]\n"
     ]
    }
   ],
   "source": [
    "# Create a range array and reshape it\n",
    "arr = np.arange(9)  # [0, 1, 2, 3, 4, 5, 6, 7, 8]\n",
    "print(f\"Original 1-D array: {arr}\")\n",
    "\n",
    "# Reshape to 3x3 matrix (row-first order)\n",
    "arr = arr.reshape((3, 3))\n",
    "print(\"\\nReshaped to 3x3:\")\n",
    "print(arr)"
   ]
  },
  {
   "cell_type": "code",
   "execution_count": 9,
   "metadata": {},
   "outputs": [
    {
     "name": "stdout",
     "output_type": "stream",
     "text": [
      "First two rows:\n",
      "[[0 1 2]\n",
      " [3 4 5]]\n",
      "\n",
      "Rows 0-1, columns 1-2:\n",
      "[[1 2]\n",
      " [4 5]]\n",
      "\n",
      "Last column:\n",
      "[2 5 8]\n",
      "\n",
      "List slicing:\n",
      "list[:2] = [[0, 1, 2], [3, 4, 5]]\n"
     ]
    }
   ],
   "source": [
    "# Slicing examples\n",
    "print(\"First two rows:\")\n",
    "print(arr[:2])\n",
    "\n",
    "print(\"\\nRows 0-1, columns 1-2:\")\n",
    "print(arr[:2, 1:3])\n",
    "\n",
    "print(\"\\nLast column:\")\n",
    "print(arr[:, -1])\n",
    "\n",
    "# Compare with list behavior\n",
    "list_2d = [[0, 1, 2], [3, 4, 5], [6, 7, 8]]\n",
    "print(\"\\nList slicing:\")\n",
    "print(f\"list[:2] = {list_2d[:2]}\")\n",
    "# Note: list[1, 2] would be illegal!"
   ]
  },
  {
   "cell_type": "markdown",
   "metadata": {},
   "source": [
    "# Mathematical Constants in NumPy"
   ]
  },
  {
   "cell_type": "code",
   "execution_count": 10,
   "metadata": {},
   "outputs": [
    {
     "name": "stdout",
     "output_type": "stream",
     "text": [
      "Pi: 3.141592653589793\n",
      "Euler's number (e): 2.718281828459045\n",
      "Positive infinity: inf\n",
      "Not a Number (NaN): nan\n",
      "\n",
      "3 > -infinity: True\n",
      "float('inf') == np.inf: True\n",
      "\n",
      "3 > NaN: False\n",
      "Is b NaN? True\n"
     ]
    }
   ],
   "source": [
    "# Important mathematical constants\n",
    "print(f\"Pi: {np.pi}\")\n",
    "print(f\"Euler's number (e): {np.e}\")\n",
    "print(f\"Positive infinity: {np.inf}\")\n",
    "print(f\"Not a Number (NaN): {np.nan}\")\n",
    "\n",
    "# Working with infinity\n",
    "print(f\"\\n3 > -infinity: {3 > -np.inf}\")\n",
    "print(f\"float('inf') == np.inf: {float('inf') == np.inf}\")\n",
    "\n",
    "# Working with NaN\n",
    "import math\n",
    "a = 3\n",
    "b = np.nan\n",
    "print(f\"\\n3 > NaN: {a > b}\")\n",
    "print(f\"Is b NaN? {math.isnan(b)}\")"
   ]
  },
  {
   "cell_type": "code",
   "execution_count": 11,
   "metadata": {},
   "outputs": [
    {
     "name": "stdout",
     "output_type": "stream",
     "text": [
      "cos(π) = -1.0\n",
      "sin(π) = 1.22e-16\n",
      "tan(π) = -1.22e-16\n",
      "\n",
      "⚠️  Caution: Comparing floating points with zero is not predictable!\n",
      "Is sin(π) exactly 0? False\n",
      "Is sin(π) close to 0? True\n"
     ]
    }
   ],
   "source": [
    "# Trigonometric functions with pi\n",
    "print(f\"cos(π) = {np.cos(np.pi)}\")\n",
    "print(f\"sin(π) = {np.sin(np.pi):.2e}\")\n",
    "print(f\"tan(π) = {np.tan(np.pi):.2e}\")\n",
    "\n",
    "print(\"\\n⚠️  Caution: Comparing floating points with zero is not predictable!\")\n",
    "print(f\"Is sin(π) exactly 0? {np.sin(np.pi) == 0}\")\n",
    "print(f\"Is sin(π) close to 0? {np.isclose(np.sin(np.pi), 0)}\")"
   ]
  },
  {
   "cell_type": "markdown",
   "metadata": {},
   "source": [
    "# Scalar and Dot Products\n",
    "\n",
    "## Scalar Product\n",
    "\n",
    "The scalar product multiplies each element of an array by a scalar value:"
   ]
  },
  {
   "cell_type": "code",
   "execution_count": 12,
   "metadata": {},
   "outputs": [
    {
     "name": "stdout",
     "output_type": "stream",
     "text": [
      "Array: [1 2 3]\n",
      "Scalar: 2\n",
      "Scalar product: [2 4 6]\n",
      "\n",
      "List multiplication: 2 * [1, 2, 3] = [1, 2, 3, 1, 2, 3]\n",
      "Note: List multiplication creates copies, not scalar multiplication!\n"
     ]
    }
   ],
   "source": [
    "# Scalar product with NumPy array\n",
    "v = np.array([1, 2, 3])\n",
    "scalar = 2\n",
    "result = scalar * v\n",
    "print(f\"Array: {v}\")\n",
    "print(f\"Scalar: {scalar}\")\n",
    "print(f\"Scalar product: {result}\")\n",
    "\n",
    "# Compare with list behavior\n",
    "lst = [1, 2, 3]\n",
    "print(f\"\\nList multiplication: 2 * {lst} = {2 * lst}\")\n",
    "print(\"Note: List multiplication creates copies, not scalar multiplication!\")"
   ]
  },
  {
   "cell_type": "markdown",
   "metadata": {},
   "source": [
    "## Dot Product\n",
    "\n",
    "The dot product is a fundamental operation in linear algebra:\n",
    "\n",
    "$$\\mathbf{u} \\cdot \\mathbf{v} = u_0v_0 + u_1v_1 + u_2v_2 = \\|\\mathbf{u}\\|\\|\\mathbf{v}\\|\\cos\\theta$$"
   ]
  },
  {
   "cell_type": "code",
   "execution_count": 13,
   "metadata": {},
   "outputs": [
    {
     "name": "stdout",
     "output_type": "stream",
     "text": [
      "u = [1 2 3]\n",
      "v = [4 5 6]\n",
      "u·v = 32\n",
      "Verification: 1×4 + 2×5 + 3×6 = 32\n",
      "\n",
      "||u||² = u·u = 14\n",
      "||u|| = 3.742\n"
     ]
    }
   ],
   "source": [
    "# Dot product of 1-D arrays\n",
    "u = np.array([1, 2, 3])\n",
    "v = np.array([4, 5, 6])\n",
    "\n",
    "# Three ways to compute dot product\n",
    "dot1 = u.dot(v)\n",
    "dot2 = np.dot(u, v)\n",
    "dot3 = u @ v  # Python 3.5+ matrix multiplication operator\n",
    "\n",
    "print(f\"u = {u}\")\n",
    "print(f\"v = {v}\")\n",
    "print(f\"u·v = {dot1}\")\n",
    "print(f\"Verification: 1×4 + 2×5 + 3×6 = {1*4 + 2*5 + 3*6}\")\n",
    "\n",
    "# Length of a vector using dot product\n",
    "length_squared = u.dot(u)\n",
    "length = np.sqrt(length_squared)\n",
    "print(f\"\\n||u||² = u·u = {length_squared}\")\n",
    "print(f\"||u|| = {length:.3f}\")"
   ]
  },
  {
   "cell_type": "markdown",
   "metadata": {},
   "source": [
    "# Performance Comparison: Lists vs NumPy Arrays\n",
    "\n",
    "Let's see why NumPy is preferred for numerical computations:"
   ]
  },
  {
   "cell_type": "code",
   "execution_count": 14,
   "metadata": {},
   "outputs": [
    {
     "name": "stdout",
     "output_type": "stream",
     "text": [
      "List dot product: 0.0471s to compute 2000000.0\n",
      "NumPy dot product: 0.0010s to compute 2000000.0\n",
      "\n",
      "NumPy is 45.6x faster!\n",
      "\n",
      "Conclusion: NumPy operations are optimized by BLAS subroutines\n"
     ]
    }
   ],
   "source": [
    "# Based on dot_product_speed.py\n",
    "import time\n",
    "\n",
    "# Test with large arrays\n",
    "test_dimension = 1000000\n",
    "\n",
    "# Generate two long lists\n",
    "L1 = [1.0] * test_dimension\n",
    "L2 = [2.0] * test_dimension\n",
    "\n",
    "# Benchmark list dot product\n",
    "begin_time = time.time()\n",
    "result = sum(i[0] * i[1] for i in zip(L1, L2))\n",
    "list_time = time.time() - begin_time\n",
    "print(f\"List dot product: {list_time:.4f}s to compute {result}\")\n",
    "\n",
    "# Generate two NumPy arrays\n",
    "A1 = np.ones(test_dimension)\n",
    "A2 = 2 * np.ones(test_dimension)\n",
    "\n",
    "# Benchmark NumPy dot product\n",
    "begin_time = time.time()\n",
    "result = A1.dot(A2)\n",
    "numpy_time = time.time() - begin_time\n",
    "print(f\"NumPy dot product: {numpy_time:.4f}s to compute {result}\")\n",
    "\n",
    "print(f\"\\nNumPy is {list_time/numpy_time:.1f}x faster!\")\n",
    "print(\"\\nConclusion: NumPy operations are optimized by BLAS subroutines\")"
   ]
  },
  {
   "cell_type": "markdown",
   "metadata": {},
   "source": [
    "# Matrix Operations\n",
    "\n",
    "## Dot Products in Matrix Form"
   ]
  },
  {
   "cell_type": "code",
   "execution_count": 15,
   "metadata": {},
   "outputs": [
    {
     "name": "stdout",
     "output_type": "stream",
     "text": [
      "Extracting vector components using dot products:\n",
      "v·e0 = 1.0 (x-component)\n",
      "v·e1 = 2.0 (y-component)\n",
      "v·e2 = 3.0 (z-component)\n",
      "\n",
      "Identity matrix:\n",
      "[[1. 0. 0.]\n",
      " [0. 1. 0.]\n",
      " [0. 0. 1.]]\n",
      "\n",
      "I·v = [1. 2. 3.]\n",
      "Identity matrix leaves vectors unchanged!\n"
     ]
    }
   ],
   "source": [
    "# Standard basis vectors in 3D\n",
    "e0 = np.array([1., 0, 0])\n",
    "e1 = np.array([0, 1., 0])\n",
    "e2 = np.array([0, 0, 1.])\n",
    "\n",
    "# A vector in 3D space\n",
    "v = np.array([1., 2., 3.])\n",
    "\n",
    "# Dot products extract components\n",
    "print(\"Extracting vector components using dot products:\")\n",
    "print(f\"v·e0 = {v.dot(e0)} (x-component)\")\n",
    "print(f\"v·e1 = {v.dot(e1)} (y-component)\")\n",
    "print(f\"v·e2 = {v.dot(e2)} (z-component)\")\n",
    "\n",
    "# Identity matrix multiplication\n",
    "I = np.eye(3)\n",
    "print(\"\\nIdentity matrix:\")\n",
    "print(I)\n",
    "print(f\"\\nI·v = {I.dot(v)}\")\n",
    "print(\"Identity matrix leaves vectors unchanged!\")"
   ]
  },
  {
   "cell_type": "markdown",
   "metadata": {},
   "source": [
    "## Matrix-Matrix Multiplication"
   ]
  },
  {
   "cell_type": "code",
   "execution_count": null,
   "metadata": {},
   "outputs": [],
   "source": [
    "# Define matrices as row vectors\n",
    "e0 = np.array([[1., 0, 0]])\n",
    "e1 = np.array([[0, 1., 0]])\n",
    "e2 = np.array([[0, 0, 1.]])\n",
    "\n",
    "# Column vector via transpose\n",
    "v = np.array([[1., 2., 3.]]).T\n",
    "\n",
    "print(\"Row vector e0:\")\n",
    "print(e0)\n",
    "print(f\"Shape: {e0.shape}\")\n",
    "\n",
    "print(\"\\nColumn vector v:\")\n",
    "print(v)\n",
    "print(f\"Shape: {v.shape}\")\n",
    "\n",
    "# Matrix multiplication\n",
    "print(\"\\ne0 @ v (1×3) @ (3×1) = (1×1):\")\n",
    "print(e0.dot(v))\n",
    "\n",
    "print(\"\\nv @ e0 (3×1) @ (1×3) = (3×3):\")\n",
    "print(v.dot(e0))"
   ]
  },
  {
   "cell_type": "markdown",
   "metadata": {},
   "source": [
    "# Rotation Matrix Example\n",
    "\n",
    "Let's implement a 2D rotation using matrix multiplication:"
   ]
  },
  {
   "cell_type": "code",
   "execution_count": 16,
   "metadata": {},
   "outputs": [
    {
     "name": "stdout",
     "output_type": "stream",
     "text": [
      "Original vector v1:\n",
      "[[1.]\n",
      " [3.]]\n",
      "\n",
      "Rotation matrix (45°):\n",
      "[[ 0.70710678 -0.70710678]\n",
      " [ 0.70710678  0.70710678]]\n",
      "\n",
      "Rotated vector v2:\n",
      "[[-1.41421356]\n",
      " [ 2.82842712]]\n"
     ]
    }
   ],
   "source": [
    "# Based on rotation_dot_product.py\n",
    "import matplotlib.pyplot as plt\n",
    "\n",
    "def rotation_matrix(degree):\n",
    "    \"\"\"Create a 2D rotation matrix for counterclockwise rotation.\"\"\"\n",
    "    theta = np.radians(degree)\n",
    "    c = np.cos(theta)\n",
    "    s = np.sin(theta)\n",
    "    return np.array([[c, -s], \n",
    "                     [s,  c]])\n",
    "\n",
    "# Original vector\n",
    "v1 = np.array([[1.], [3.]])  # Column vector\n",
    "\n",
    "# Rotate 45 degrees\n",
    "R = rotation_matrix(45)\n",
    "v2 = R.dot(v1)\n",
    "\n",
    "print(\"Original vector v1:\")\n",
    "print(v1)\n",
    "print(\"\\nRotation matrix (45°):\")\n",
    "print(R)\n",
    "print(\"\\nRotated vector v2:\")\n",
    "print(v2)"
   ]
  },
  {
   "cell_type": "code",
   "execution_count": 17,
   "metadata": {},
   "outputs": [
    {
     "data": {
      "image/png": "[encoded data removed]",
      "text/plain": [
       "<Figure size 800x800 with 1 Axes>"
      ]
     },
     "metadata": {},
     "output_type": "display_data"
    }
   ],
   "source": [
    "# Visualize the rotation\n",
    "plt.figure(figsize=(8, 8))\n",
    "\n",
    "# Plot original vector (blue)\n",
    "plt.arrow(0, 0, v1[0, 0], v1[1, 0], \n",
    "          head_width=0.2, head_length=0.2, \n",
    "          fc='blue', ec='blue', label='Original')\n",
    "\n",
    "# Plot rotated vector (red)\n",
    "plt.arrow(0, 0, v2[0, 0], v2[1, 0], \n",
    "          head_width=0.2, head_length=0.2, \n",
    "          fc='red', ec='red', label='Rotated 45°')\n",
    "\n",
    "plt.axis([-2, 4, -1, 4])\n",
    "plt.grid(True)\n",
    "plt.axhline(y=0, color='k', linewidth=0.5)\n",
    "plt.axvline(x=0, color='k', linewidth=0.5)\n",
    "plt.xlabel('X')\n",
    "plt.ylabel('Y')\n",
    "plt.title('2D Vector Rotation')\n",
    "plt.legend()\n",
    "plt.axis('equal')\n",
    "plt.show()"
   ]
  },
  {
   "cell_type": "markdown",
   "metadata": {},
   "source": [
    "# Image Processing with NumPy\n",
    "\n",
    "Images are just 2D or 3D arrays. Let's convert a color image to grayscale:"
   ]
  },
  {
   "cell_type": "code",
   "execution_count": 18,
   "metadata": {},
   "outputs": [
    {
     "data": {
      "image/png": "[encoded data removed]",
      "text/plain": [
       "<Figure size 1000x400 with 2 Axes>"
      ]
     },
     "metadata": {},
     "output_type": "display_data"
    },
    {
     "name": "stdout",
     "output_type": "stream",
     "text": [
      "Color image shape: (100, 100, 3)\n",
      "Grayscale image shape: (100, 100)\n"
     ]
    }
   ],
   "source": [
    "# Create a synthetic color image\n",
    "# Shape: (height, width, channels)\n",
    "height, width = 100, 100\n",
    "image = np.zeros((height, width, 3), dtype=np.uint8)\n",
    "\n",
    "# Create a gradient pattern\n",
    "for i in range(height):\n",
    "    for j in range(width):\n",
    "        image[i, j, 0] = int(255 * i / height)  # Red gradient vertically\n",
    "        image[i, j, 1] = int(255 * j / width)   # Green gradient horizontally\n",
    "        image[i, j, 2] = 128                    # Constant blue\n",
    "\n",
    "# Display the color image\n",
    "plt.figure(figsize=(10, 4))\n",
    "\n",
    "plt.subplot(1, 2, 1)\n",
    "plt.imshow(image)\n",
    "plt.title('Original Color Image')\n",
    "plt.axis('off')\n",
    "\n",
    "# Convert to grayscale using standard formula\n",
    "# Gray = 0.3*R + 0.59*G + 0.11*B\n",
    "grayscale = np.zeros((height, width), dtype=np.uint8)\n",
    "\n",
    "for i in range(height):\n",
    "    for j in range(width):\n",
    "        R = image[i, j, 0]\n",
    "        G = image[i, j, 1]\n",
    "        B = image[i, j, 2]\n",
    "        grayscale[i, j] = int(0.3*R + 0.59*G + 0.11*B)\n",
    "\n",
    "plt.subplot(1, 2, 2)\n",
    "plt.imshow(grayscale, cmap='gray', vmin=0, vmax=255)\n",
    "plt.title('Grayscale Image')\n",
    "plt.axis('off')\n",
    "\n",
    "plt.tight_layout()\n",
    "plt.show()\n",
    "\n",
    "print(f\"Color image shape: {image.shape}\")\n",
    "print(f\"Grayscale image shape: {grayscale.shape}\")"
   ]
  },
  {
   "cell_type": "markdown",
   "metadata": {},
   "source": [
    "# Advanced Array Operations\n",
    "\n",
    "## Broadcasting\n",
    "\n",
    "NumPy can perform operations on arrays of different shapes:"
   ]
  },
  {
   "cell_type": "code",
   "execution_count": 19,
   "metadata": {},
   "outputs": [
    {
     "name": "stdout",
     "output_type": "stream",
     "text": [
      "Matrix a:\n",
      "[[1 2 3]\n",
      " [4 5 6]]\n",
      "Shape: (2, 3)\n",
      "\n",
      "Vector b:\n",
      "[10 20 30]\n",
      "Shape: (3,)\n",
      "\n",
      "a + b (broadcasting):\n",
      "[[11 22 33]\n",
      " [14 25 36]]\n",
      "Each row of 'a' is added to vector 'b'\n"
     ]
    }
   ],
   "source": [
    "# Broadcasting example\n",
    "a = np.array([[1, 2, 3],\n",
    "              [4, 5, 6]])\n",
    "b = np.array([10, 20, 30])\n",
    "\n",
    "print(\"Matrix a:\")\n",
    "print(a)\n",
    "print(f\"Shape: {a.shape}\")\n",
    "\n",
    "print(\"\\nVector b:\")\n",
    "print(b)\n",
    "print(f\"Shape: {b.shape}\")\n",
    "\n",
    "print(\"\\na + b (broadcasting):\")\n",
    "print(a + b)\n",
    "print(\"Each row of 'a' is added to vector 'b'\")"
   ]
  },
  {
   "cell_type": "markdown",
   "metadata": {},
   "source": [
    "## Vectorized Operations"
   ]
  },
  {
   "cell_type": "code",
   "execution_count": 20,
   "metadata": {},
   "outputs": [
    {
     "name": "stdout",
     "output_type": "stream",
     "text": [
      "x = [1 2 3 4 5]\n",
      "x² = [ 1  4  9 16 25]\n",
      "√x = [1.         1.41421356 1.73205081 2.         2.23606798]\n",
      "sin(x) = [ 0.84147098  0.90929743  0.14112001 -0.7568025  -0.95892427]\n",
      "x > 3 = [False False False  True  True]\n",
      "\n",
      "Elements > 3: [4 5]\n"
     ]
    }
   ],
   "source": [
    "# Element-wise operations (vectorized)\n",
    "x = np.array([1, 2, 3, 4, 5])\n",
    "\n",
    "# All operations are applied element-wise\n",
    "print(f\"x = {x}\")\n",
    "print(f\"x² = {x**2}\")\n",
    "print(f\"√x = {np.sqrt(x)}\")\n",
    "print(f\"sin(x) = {np.sin(x)}\")\n",
    "print(f\"x > 3 = {x > 3}\")\n",
    "\n",
    "# Conditional selection\n",
    "print(f\"\\nElements > 3: {x[x > 3]}\")"
   ]
  },
  {
   "cell_type": "markdown",
   "metadata": {},
   "source": [
    "# Best Practices\n",
    "\n",
    "1. **Use NumPy for numerical computations** - It's much faster than pure Python\n",
    "2. **Avoid loops when possible** - Use vectorized operations\n",
    "3. **Be careful with data types** - Default is often float64\n",
    "4. **Use appropriate array shapes** - Distinguish between (n,) and (1,n) shapes\n",
    "5. **Leverage broadcasting** - But understand how it works\n",
    "6. **Use views instead of copies** - Slicing creates views, not copies"
   ]
  },
  {
   "cell_type": "code",
   "execution_count": 21,
   "metadata": {},
   "outputs": [
    {
     "name": "stdout",
     "output_type": "stream",
     "text": [
      "Original: [1 2 3 4 5]\n",
      "View: [2 3 4]\n",
      "Copy: [2 3 4]\n",
      "\n",
      "After modifying view[0] = 99:\n",
      "Original: [ 1 99  3  4  5]\n",
      "View: [99  3  4]\n",
      "Copy: [2 3 4]\n",
      "\n",
      "Note: Modifying the view changed the original!\n"
     ]
    }
   ],
   "source": [
    "import numpy as np\n",
    "\n",
    "# Example: Views vs Copies\n",
    "original = np.array([1, 2, 3, 4, 5])\n",
    "view = original[1:4]  # This is a view\n",
    "copy = original[1:4].copy()  # This is a copy\n",
    "\n",
    "print(f\"Original: {original}\")\n",
    "print(f\"View: {view}\")\n",
    "print(f\"Copy: {copy}\")\n",
    "\n",
    "# Modify the view\n",
    "view[0] = 99\n",
    "print(f\"\\nAfter modifying view[0] = 99:\")\n",
    "print(f\"Original: {original}\")\n",
    "print(f\"View: {view}\")\n",
    "print(f\"Copy: {copy}\")\n",
    "print(\"\\nNote: Modifying the view changed the original!\")"
   ]
  },
  {
   "cell_type": "markdown",
   "metadata": {},
   "source": [
    "# Summary\n",
    "\n",
    "* **NumPy** is the foundation of scientific computing in Python\n",
    "* The **ndarray** is NumPy's core data structure for N-dimensional arrays\n",
    "* NumPy operations are **vectorized** and much faster than Python lists\n",
    "* **Broadcasting** allows operations on arrays of different shapes\n",
    "* **Matrix operations** like dot products are optimized using BLAS\n",
    "* **Images** can be processed as 2D or 3D NumPy arrays\n",
    "* Always prefer **vectorized operations** over explicit loops\n",
    "* Understanding the difference between **views and copies** is important"
   ]
  },
  {
   "cell_type": "markdown",
   "metadata": {},
   "source": [
    "# Exercises"
   ]
  },
  {
   "cell_type": "markdown",
   "metadata": {},
   "source": [
    "## Exercise 1\n",
    "Create a 5x5 matrix with values 1,2,3,4 just below the diagonal."
   ]
  },
  {
   "cell_type": "code",
   "execution_count": 32,
   "metadata": {},
   "outputs": [
    {
     "name": "stdout",
     "output_type": "stream",
     "text": [
      "[[0. 0. 0. 0. 0.]\n",
      " [1. 0. 0. 0. 0.]\n",
      " [0. 2. 0. 0. 0.]\n",
      " [0. 0. 3. 0. 0.]\n",
      " [0. 0. 0. 4. 0.]]\n"
     ]
    }
   ],
   "source": [
    "m = np.empty((5, 5))\n",
    "# Set to all zeros\n",
    "m.fill(0)\n",
    "# Fill below the diagonal \n",
    "m[1, 0] = 1\n",
    "m[2, 1] = 2\n",
    "m[3, 2] = 3\n",
    "m[4, 3] = 4\n",
    "\n",
    "print(m)"
   ]
  },
  {
   "cell_type": "markdown",
   "metadata": {},
   "source": [
    "## Exercise 2\n",
    "Create a 8x8 checkerboard pattern using 0s and 1s."
   ]
  },
  {
   "cell_type": "code",
   "execution_count": 34,
   "metadata": {},
   "outputs": [
    {
     "name": "stdout",
     "output_type": "stream",
     "text": [
      "[[1. 0. 1. 0. 1. 0. 1. 0.]\n",
      " [0. 1. 0. 1. 0. 1. 0. 1.]\n",
      " [1. 0. 1. 0. 1. 0. 1. 0.]\n",
      " [0. 1. 0. 1. 0. 1. 0. 1.]\n",
      " [1. 0. 1. 0. 1. 0. 1. 0.]\n",
      " [0. 1. 0. 1. 0. 1. 0. 1.]\n",
      " [1. 0. 1. 0. 1. 0. 1. 0.]\n",
      " [0. 1. 0. 1. 0. 1. 0. 1.]]\n"
     ]
    }
   ],
   "source": [
    "# Your solution here\n",
    "m = np.empty((8,8))\n",
    "for i in range(8):\n",
    "    for j in range(8):\n",
    "        if (i + j) % 2 == 0:\n",
    "            m[i, j] = 1\n",
    "        else:\n",
    "            m[i, j] = 0\n",
    "\n",
    "print(m)"
   ]
  },
  {
   "cell_type": "markdown",
   "metadata": {},
   "source": [
    "## Exercise 3\n",
    "Normalize a 5x5 random matrix (subtract mean and divide by standard deviation)."
   ]
  },
  {
   "cell_type": "code",
   "execution_count": 37,
   "metadata": {},
   "outputs": [
    {
     "name": "stdout",
     "output_type": "stream",
     "text": [
      "[[ 0.14516679  0.23648967 -0.24506447  1.58001263  0.88338544]\n",
      " [-0.88504692  1.41489732 -1.39690957  1.54557718  1.53806836]\n",
      " [-0.17644927  0.75495453 -1.6495833  -1.00580087  1.70125807]\n",
      " [-1.26771494  0.03317759 -0.44299448 -0.48123017  0.7479726 ]\n",
      " [-0.54434829 -0.10148267 -0.96748046 -0.59644884 -0.82040593]]\n"
     ]
    }
   ],
   "source": [
    "# Your solution here\n",
    "# get a 5*5 random matrix\n",
    "m = np.empty((5, 5))\n",
    "m[:] = np.random.rand(5, 5)\n",
    "# Normalize the matrix\n",
    "mean = m.mean()\n",
    "std = m.std()\n",
    "normalized = (m - mean) / std\n",
    "print(normalized)"
   ]
  },
  {
   "cell_type": "markdown",
   "metadata": {},
   "source": [
    "## Exercise 4\n",
    "Write a function that rotates a 2D point (x, y) by any given angle in degrees."
   ]
  },
  {
   "cell_type": "code",
   "execution_count": null,
   "metadata": {},
   "outputs": [],
   "source": [
    "# Your solution here\n",
    "def rotation_matrix(degree):\n",
    "    \"\"\"Create a 2D rotation matrix for counterclockwise rotation.\"\"\"\n",
    "    theta = np.radians(degree)\n",
    "    c = np.cos(theta)\n",
    "    s = np.sin(theta)\n",
    "    return np.array([[c, -s], \n",
    "                     [s,  c]])\n",
    "\n",
    "# Original vector\n",
    "v1 = np.array([[1.], [3.]])  # Column vector"
   ]
  },
  {
   "cell_type": "markdown",
   "metadata": {},
   "source": [
    "## Exercise 5\n",
    "Compare the performance of computing the sum of squares for a list vs a NumPy array with 1 million elements."
   ]
  },
  {
   "cell_type": "code",
   "execution_count": 38,
   "metadata": {},
   "outputs": [
    {
     "name": "stdout",
     "output_type": "stream",
     "text": [
      "List sum square: 0.0383s to compute 1000000.0\n",
      "NumPy sum square: 0.0004s to compute 1000000.0\n",
      "\n",
      "NumPy is 108.7x faster!\n",
      "\n",
      "Conclusion: NumPy operations are optimized by BLAS subroutines\n"
     ]
    }
   ],
   "source": [
    "# Based on dot_product_speed.py\n",
    "import time\n",
    "\n",
    "# Test with large arrays\n",
    "test_dimension = 1000000\n",
    "\n",
    "# Generate two long lists\n",
    "L1 = [1.0] * test_dimension\n",
    "\n",
    "# Benchmark list sum of squares\n",
    "begin_time = time.time()\n",
    "result = sum(i ** 2 for i in L1)\n",
    "list_time = time.time() - begin_time\n",
    "print(f\"List sum square: {list_time:.4f}s to compute {result}\")\n",
    "\n",
    "# Generate two NumPy arrays\n",
    "A1 = np.ones(test_dimension)\n",
    "\n",
    "# Benchmark NumPy dot product\n",
    "begin_time = time.time()\n",
    "result = A1.dot(A1)\n",
    "numpy_time = time.time() - begin_time\n",
    "print(f\"NumPy sum square: {numpy_time:.4f}s to compute {result}\")\n",
    "\n",
    "print(f\"\\nNumPy is {list_time/numpy_time:.1f}x faster!\")\n",
    "print(\"\\nConclusion: NumPy operations are optimized by BLAS subroutines\")"
   ]
  },
  {
   "cell_type": "markdown",
   "id": "7698fc58",
   "metadata": {},
   "source": [
    "\n",
    "## Advanced NumPy Concepts for Python Users\n",
    "\n",
    "NumPy is the foundational library for numerical computing in Python. Beyond the basics of array creation and manipulation, there are several advanced concepts and best practices that are essential for scientific computing and data science.\n",
    "\n",
    "### 1. Broadcasting\n",
    "Broadcasting allows NumPy to work with arrays of different shapes during arithmetic operations. It eliminates the need for explicit looping or reshaping.\n",
    "\n",
    "Example:\n",
    "```python\n",
    "a = np.array([1, 2, 3])\n",
    "b = np.array([[10], [20], [30]])\n",
    "result = a + b  # Shape (3, 3)\n",
    "```\n",
    "\n",
    "### 2. Vectorization\n",
    "Vectorization refers to replacing explicit loops with array expressions to speed up computation using low-level optimizations.\n",
    "\n",
    "Example:\n",
    "```python\n",
    "x = np.arange(10000)\n",
    "y = x ** 2  # Vectorized, fast\n",
    "```\n",
    "\n",
    "### 3. Views vs Copies\n",
    "Be aware of memory sharing in NumPy. Operations like slicing return **views** (not copies), meaning the original data can be affected.\n",
    "\n",
    "Example:\n",
    "```python\n",
    "a = np.array([1, 2, 3])\n",
    "b = a[:2]\n",
    "b[0] = 99\n",
    "# Now a[0] is also 99\n",
    "```\n",
    "\n",
    "Use `.copy()` to create independent data when necessary.\n",
    "\n",
    "### 4. Boolean Indexing & Fancy Indexing\n",
    "These are powerful tools to extract or modify parts of arrays.\n",
    "\n",
    "```python\n",
    "arr = np.array([10, 15, 20, 25])\n",
    "mask = arr > 15\n",
    "print(arr[mask])  # Output: [20 25]\n",
    "```\n",
    "\n",
    "### 5. Memory Layout and Performance\n",
    "Understand `C` vs `Fortran` order (`row-major` vs `column-major`) for performance optimization, especially for large matrices.\n",
    "\n",
    "```python\n",
    "a = np.asfortranarray(np.ones((1000, 1000)))\n",
    "```\n",
    "\n",
    "### 6. Structured Arrays\n",
    "Store complex records with different types in a single array.\n",
    "\n",
    "```python\n",
    "dtype = [('name', 'S10'), ('age', 'i4')]\n",
    "data = np.array([('Alice', 25), ('Bob', 30)], dtype=dtype)\n",
    "```\n",
    "\n",
    "### 7. Universal Functions (ufuncs)\n",
    "NumPy provides a collection of fast, element-wise operations known as **ufuncs**.\n",
    "\n",
    "```python\n",
    "a = np.array([1, 2, 3])\n",
    "b = np.exp(a)\n",
    "```\n",
    "\n",
    "### 8. Linear Algebra\n",
    "NumPy includes `np.linalg` for matrix multiplication, decomposition, eigenvalues, etc.\n",
    "\n",
    "```python\n",
    "A = np.array([[1, 2], [3, 4]])\n",
    "eigenvalues, eigenvectors = np.linalg.eig(A)\n",
    "```\n",
    "\n",
    "### 9. Random Numbers\n",
    "NumPy's `np.random` module provides fast sampling for statistical simulations.\n",
    "\n",
    "```python\n",
    "samples = np.random.normal(loc=0.0, scale=1.0, size=1000)\n",
    "```\n",
    "\n",
    "### 10. Integration with Other Libraries\n",
    "NumPy arrays are the foundation of data structures in pandas, TensorFlow, PyTorch, OpenCV, and more. Understanding NumPy unlocks performance and flexibility in these libraries.\n",
    "\n",
    "---\n",
    "\n",
    "Mastering NumPy at an advanced level helps with writing high-performance code, understanding machine learning libraries, and effectively analyzing large datasets.\n"
   ]
  }
 ],
 "metadata": {
  "kernelspec": {
   "display_name": "base",
   "language": "python",
   "name": "python3"
  },
  "language_info": {
   "codemirror_mode": {
    "name": "ipython",
    "version": 3
   },
   "file_extension": ".py",
   "mimetype": "text/x-python",
   "name": "python",
   "nbconvert_exporter": "python",
   "pygments_lexer": "ipython3",
   "version": "3.11.11"
  }
 },
 "nbformat": 4,
 "nbformat_minor": 4
}
